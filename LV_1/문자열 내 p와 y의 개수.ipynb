{
 "cells": [
  {
   "cell_type": "code",
   "execution_count": 7,
   "metadata": {},
   "outputs": [],
   "source": [
    "def solution(s):\n",
    "    s=s.lower()\n",
    "    i=0\n",
    "    j=0\n",
    "    if 'p' in s[:]:\n",
    "        i+=1\n",
    "    elif 'y' in s[:]:\n",
    "        j+=1\n",
    "    print(i)\n",
    "    print(j)"
   ]
  },
  {
   "cell_type": "code",
   "execution_count": 6,
   "metadata": {},
   "outputs": [
    {
     "name": "stdout",
     "output_type": "stream",
     "text": [
      "True\n"
     ]
    }
   ],
   "source": [
    "s= 'hello'\n",
    "if 'o' in s[:]:\n",
    "    print(len(s[]))"
   ]
  },
  {
   "cell_type": "code",
   "execution_count": 12,
   "metadata": {},
   "outputs": [],
   "source": [
    "def solution(s):\n",
    "    s=s.lower()\n",
    "    p=0\n",
    "    y=0\n",
    "    for i in range(len(s)):\n",
    "        if s[i]=='p':\n",
    "            p+=1\n",
    "        elif s[i]=='y':\n",
    "            y+=1\n",
    "    if p==y:\n",
    "        return True\n",
    "    elif p!=y:\n",
    "        return False\n",
    "        "
   ]
  },
  {
   "cell_type": "code",
   "execution_count": 15,
   "metadata": {},
   "outputs": [
    {
     "data": {
      "text/plain": [
       "False"
      ]
     },
     "execution_count": 15,
     "metadata": {},
     "output_type": "execute_result"
    }
   ],
   "source": [
    "d= 'Yppppyyy'\n",
    "solution(d)\n",
    "\n",
    "d= 'yddddddpP'\n",
    "solution(d)"
   ]
  }
 ],
 "metadata": {
  "kernelspec": {
   "display_name": "Python 3",
   "language": "python",
   "name": "python3"
  },
  "language_info": {
   "codemirror_mode": {
    "name": "ipython",
    "version": 3
   },
   "file_extension": ".py",
   "mimetype": "text/x-python",
   "name": "python",
   "nbconvert_exporter": "python",
   "pygments_lexer": "ipython3",
   "version": "3.8.10"
  },
  "orig_nbformat": 4
 },
 "nbformat": 4,
 "nbformat_minor": 2
}
