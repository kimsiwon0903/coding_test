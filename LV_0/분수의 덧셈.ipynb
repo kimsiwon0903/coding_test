{
 "cells": [
  {
   "attachments": {},
   "cell_type": "markdown",
   "metadata": {},
   "source": [
    "https://school.programmers.co.kr/learn/courses/30/lessons/120808"
   ]
  },
  {
   "cell_type": "code",
   "execution_count": 4,
   "metadata": {},
   "outputs": [],
   "source": [
    "def solution(numer1, denom1, numer2, denom2):\n",
    "    \n",
    "    denom= denom1*denom2\n",
    "    numer1*=denom2\n",
    "    numer2*=denom1\n",
    "    numer= numer1+numer2\n",
    "    while True:\n",
    "        if numer%2==0 and denom%2==0:\n",
    "            for i in range(1,30):\n",
    "                numer/=(2**i)\n",
    "                denom/=(2**i)\n",
    "                if numer%2==0 and denom%2==0:\n",
    "                    i+=1 \n",
    "                else:\n",
    "                    break\n",
    "            return numer, denom\n",
    "        \n",
    "        elif numer%3==0 and denom%3==0:\n",
    "            for i in range(1,30):\n",
    "                numer/=(3**i)\n",
    "                denom/=(3**i)\n",
    "                if numer%3==0 and denom%3==0:\n",
    "                    i+=1 \n",
    "                else:\n",
    "                    break\n",
    "            return numer, denom\n",
    "        \n",
    "        else:\n",
    "            return numer, denom\n",
    "            \n",
    "            "
   ]
  },
  {
   "cell_type": "code",
   "execution_count": 1,
   "metadata": {},
   "outputs": [
    {
     "ename": "IndentationError",
     "evalue": "expected an indented block (3069501299.py, line 22)",
     "output_type": "error",
     "traceback": [
      "\u001b[1;36m  Cell \u001b[1;32mIn[1], line 22\u001b[1;36m\u001b[0m\n\u001b[1;33m    if numer%2==0 and denom%2==0:\u001b[0m\n\u001b[1;37m    ^\u001b[0m\n\u001b[1;31mIndentationError\u001b[0m\u001b[1;31m:\u001b[0m expected an indented block\n"
     ]
    }
   ],
   "source": [
    "def solution(numer1, denom1, numer2, denom2):\n",
    "    \n",
    "    denom= denom1*denom2\n",
    "    numer1*=denom2\n",
    "    numer2*=denom1\n",
    "    numer= numer1+numer2\n",
    "    while True:\n",
    "        z=[]\n",
    "        for x in range(1000):\n",
    "            y= numer%x\n",
    "            if y==0:\n",
    "                z=y\n",
    "                continue\n",
    "            elif y!=0:\n",
    "                continue\n",
    "        \n",
    "        l= len(z)\n",
    "        while True:\n",
    "            for i in range(l):\n",
    "                \n",
    "                "
   ]
  },
  {
   "cell_type": "code",
   "execution_count": 8,
   "metadata": {},
   "outputs": [
    {
     "data": {
      "text/plain": [
       "(5.0, 4.0)"
      ]
     },
     "execution_count": 8,
     "metadata": {},
     "output_type": "execute_result"
    }
   ],
   "source": [
    "solution(1,2,3,4)"
   ]
  },
  {
   "cell_type": "code",
   "execution_count": 9,
   "metadata": {},
   "outputs": [
    {
     "data": {
      "text/plain": [
       "(3.0, 2.0)"
      ]
     },
     "execution_count": 9,
     "metadata": {},
     "output_type": "execute_result"
    }
   ],
   "source": [
    "solution(2,3,5,6)"
   ]
  },
  {
   "cell_type": "code",
   "execution_count": null,
   "metadata": {},
   "outputs": [],
   "source": []
  }
 ],
 "metadata": {
  "kernelspec": {
   "display_name": "Python 3",
   "language": "python",
   "name": "python3"
  },
  "language_info": {
   "codemirror_mode": {
    "name": "ipython",
    "version": 3
   },
   "file_extension": ".py",
   "mimetype": "text/x-python",
   "name": "python",
   "nbconvert_exporter": "python",
   "pygments_lexer": "ipython3",
   "version": "3.8.10"
  },
  "orig_nbformat": 4
 },
 "nbformat": 4,
 "nbformat_minor": 2
}
